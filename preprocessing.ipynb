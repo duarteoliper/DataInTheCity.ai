{
 "cells": [
  {
   "cell_type": "code",
   "execution_count": null,
   "metadata": {},
   "outputs": [],
   "source": [
    "'''\n",
    "Preprocessing data\n",
    "\n",
    "- Drop NaN values\n",
    "- Clean data\n",
    "- All signals must use the same time resolution for aggregation\n",
    "'''"
   ]
  },
  {
   "cell_type": "code",
   "execution_count": null,
   "metadata": {},
   "outputs": [],
   "source": []
  }
 ],
 "metadata": {
  "kernelspec": {
   "display_name": "Python 3.9.13 ('datainthecity')",
   "language": "python",
   "name": "python3"
  },
  "language_info": {
   "name": "python",
   "version": "3.9.13"
  },
  "orig_nbformat": 4,
  "vscode": {
   "interpreter": {
    "hash": "4ad8b16ebd1aecb2db7ddf8d2b8bb8fe18a48f18deb6fea64b0e709f8651765a"
   }
  }
 },
 "nbformat": 4,
 "nbformat_minor": 2
}
