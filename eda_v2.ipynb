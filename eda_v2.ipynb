{
 "cells": [
  {
   "cell_type": "code",
   "execution_count": 3,
   "metadata": {},
   "outputs": [],
   "source": [
    "import numpy as np\n",
    "import pandas as pd"
   ]
  },
  {
   "cell_type": "code",
   "execution_count": 7,
   "metadata": {},
   "outputs": [],
   "source": [
    "transactions_df = pd.read_excel('data/raw/SIBS_Analytics_Freguesias_detalhado_20220818.xlsx')"
   ]
  },
  {
   "cell_type": "code",
   "execution_count": 8,
   "metadata": {},
   "outputs": [
    {
     "data": {
      "text/html": [
       "<div>\n",
       "<style scoped>\n",
       "    .dataframe tbody tr th:only-of-type {\n",
       "        vertical-align: middle;\n",
       "    }\n",
       "\n",
       "    .dataframe tbody tr th {\n",
       "        vertical-align: top;\n",
       "    }\n",
       "\n",
       "    .dataframe thead th {\n",
       "        text-align: right;\n",
       "    }\n",
       "</style>\n",
       "<table border=\"1\" class=\"dataframe\">\n",
       "  <thead>\n",
       "    <tr style=\"text-align: right;\">\n",
       "      <th></th>\n",
       "      <th>Ano/Mês</th>\n",
       "      <th>Tipo de dia</th>\n",
       "      <th>País do cartão</th>\n",
       "      <th>Setor</th>\n",
       "      <th>Freguesia</th>\n",
       "      <th>Nº de operações</th>\n",
       "      <th>Valor das operações</th>\n",
       "    </tr>\n",
       "  </thead>\n",
       "  <tbody>\n",
       "    <tr>\n",
       "      <th>0</th>\n",
       "      <td>Mai 22</td>\n",
       "      <td>Dia da Semana</td>\n",
       "      <td>Andorra</td>\n",
       "      <td>Restaurantes</td>\n",
       "      <td>ARU/ORU do Centro Histórico</td>\n",
       "      <td>15</td>\n",
       "      <td>356.05</td>\n",
       "    </tr>\n",
       "    <tr>\n",
       "      <th>1</th>\n",
       "      <td>Mai 22</td>\n",
       "      <td>Dia da Semana</td>\n",
       "      <td>Andorra</td>\n",
       "      <td>Restaurantes</td>\n",
       "      <td>União das freguesias de Cedofeita, Santo Ildef...</td>\n",
       "      <td>29</td>\n",
       "      <td>780.76</td>\n",
       "    </tr>\n",
       "    <tr>\n",
       "      <th>2</th>\n",
       "      <td>Mai 22</td>\n",
       "      <td>Dia da Semana</td>\n",
       "      <td>Andorra</td>\n",
       "      <td>Bares, Cafés e Similares</td>\n",
       "      <td>União das freguesias de Cedofeita, Santo Ildef...</td>\n",
       "      <td>20</td>\n",
       "      <td>467.45</td>\n",
       "    </tr>\n",
       "    <tr>\n",
       "      <th>3</th>\n",
       "      <td>Mai 22</td>\n",
       "      <td>Dia da Semana</td>\n",
       "      <td>Angola</td>\n",
       "      <td>Tecnologia, Electrónica e Electrodomésticos</td>\n",
       "      <td>União das freguesias de Cedofeita, Santo Ildef...</td>\n",
       "      <td>17</td>\n",
       "      <td>2572.55</td>\n",
       "    </tr>\n",
       "    <tr>\n",
       "      <th>4</th>\n",
       "      <td>Mai 22</td>\n",
       "      <td>Dia da Semana</td>\n",
       "      <td>Angola</td>\n",
       "      <td>Vestuário</td>\n",
       "      <td>União das freguesias de Cedofeita, Santo Ildef...</td>\n",
       "      <td>63</td>\n",
       "      <td>8865.15</td>\n",
       "    </tr>\n",
       "  </tbody>\n",
       "</table>\n",
       "</div>"
      ],
      "text/plain": [
       "  Ano/Mês    Tipo de dia País do cartão  \\\n",
       "0  Mai 22  Dia da Semana        Andorra   \n",
       "1  Mai 22  Dia da Semana        Andorra   \n",
       "2  Mai 22  Dia da Semana        Andorra   \n",
       "3  Mai 22  Dia da Semana         Angola   \n",
       "4  Mai 22  Dia da Semana         Angola   \n",
       "\n",
       "                                         Setor  \\\n",
       "0                                 Restaurantes   \n",
       "1                                 Restaurantes   \n",
       "2                     Bares, Cafés e Similares   \n",
       "3  Tecnologia, Electrónica e Electrodomésticos   \n",
       "4                                    Vestuário   \n",
       "\n",
       "                                           Freguesia  Nº de operações  \\\n",
       "0                        ARU/ORU do Centro Histórico               15   \n",
       "1  União das freguesias de Cedofeita, Santo Ildef...               29   \n",
       "2  União das freguesias de Cedofeita, Santo Ildef...               20   \n",
       "3  União das freguesias de Cedofeita, Santo Ildef...               17   \n",
       "4  União das freguesias de Cedofeita, Santo Ildef...               63   \n",
       "\n",
       "   Valor das operações  \n",
       "0               356.05  \n",
       "1               780.76  \n",
       "2               467.45  \n",
       "3              2572.55  \n",
       "4              8865.15  "
      ]
     },
     "execution_count": 8,
     "metadata": {},
     "output_type": "execute_result"
    }
   ],
   "source": [
    "transactions_df.head()"
   ]
  },
  {
   "cell_type": "code",
   "execution_count": null,
   "metadata": {},
   "outputs": [],
   "source": []
  }
 ],
 "metadata": {
  "kernelspec": {
   "display_name": "Python 3.10.4 ('test_env')",
   "language": "python",
   "name": "python3"
  },
  "language_info": {
   "codemirror_mode": {
    "name": "ipython",
    "version": 3
   },
   "file_extension": ".py",
   "mimetype": "text/x-python",
   "name": "python",
   "nbconvert_exporter": "python",
   "pygments_lexer": "ipython3",
   "version": "3.10.6"
  },
  "orig_nbformat": 4,
  "vscode": {
   "interpreter": {
    "hash": "cfc55aaf3635fc8668702d1c7641fd06ea16c4660bdb443bd905da5bed941f3e"
   }
  }
 },
 "nbformat": 4,
 "nbformat_minor": 2
}
