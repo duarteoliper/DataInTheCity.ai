{
 "cells": [
  {
   "cell_type": "code",
   "execution_count": 5,
   "metadata": {},
   "outputs": [
    {
     "data": {
      "text/plain": [
       "' \\nExploratory Data Analysis\\n\\n- Visualize raw data\\n- Visualize statistics\\n- Search for correlations\\n- NaN values\\n- Number of instances/time resolution for each signal\\n- Location resolution for each signal - are signals acquired differently in each area?\\n\\n '"
      ]
     },
     "execution_count": 5,
     "metadata": {},
     "output_type": "execute_result"
    }
   ],
   "source": [
    "\"\"\" \n",
    "Exploratory Data Analysis\n",
    "\n",
    "- Visualize raw data\n",
    "- Visualize statistics\n",
    "- Search for correlations\n",
    "- NaN values\n",
    "- Number of instances/time resolution for each signal\n",
    "- Location resolution for each signal - are signals acquired differently in each area?\n",
    "\"\"\""
   ]
  },
  {
   "cell_type": "code",
   "execution_count": 4,
   "metadata": {},
   "outputs": [],
   "source": [
    "import numpy\n"
   ]
  }
 ],
 "metadata": {
  "kernelspec": {
   "display_name": "Python 3.9.13 ('datainthecity')",
   "language": "python",
   "name": "python3"
  },
  "language_info": {
   "codemirror_mode": {
    "name": "ipython",
    "version": 3
   },
   "file_extension": ".py",
   "mimetype": "text/x-python",
   "name": "python",
   "nbconvert_exporter": "python",
   "pygments_lexer": "ipython3",
   "version": "3.9.13"
  },
  "orig_nbformat": 4,
  "vscode": {
   "interpreter": {
    "hash": "4ad8b16ebd1aecb2db7ddf8d2b8bb8fe18a48f18deb6fea64b0e709f8651765a"
   }
  }
 },
 "nbformat": 4,
 "nbformat_minor": 2
}
